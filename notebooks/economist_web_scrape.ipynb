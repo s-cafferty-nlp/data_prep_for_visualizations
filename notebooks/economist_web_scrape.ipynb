{
 "cells": [
  {
   "cell_type": "code",
   "execution_count": 1,
   "metadata": {},
   "outputs": [],
   "source": [
    "import requests\n",
    "\n",
    "from bs4 import BeautifulSoup"
   ]
  },
  {
   "cell_type": "code",
   "execution_count": 104,
   "metadata": {},
   "outputs": [
    {
     "data": {
      "text/plain": [
       "6235"
      ]
     },
     "execution_count": 104,
     "metadata": {},
     "output_type": "execute_result"
    }
   ],
   "source": [
    "with open('../data/economist_list.txt', 'r') as file:\n",
    "     data = file.read()\n",
    "len(data)"
   ]
  },
  {
   "cell_type": "code",
   "execution_count": 134,
   "metadata": {},
   "outputs": [
    {
     "data": {
      "text/plain": [
       "['/details/the-economist-december-2020-edition-the-world-in-2021',\n",
       " '/details/The_Economist_12_TH_December_18TH_December_2015',\n",
       " '/details/The_Economist_19_December_2015',\n",
       " '/details/The_Economist_19_December_2015_1_January_2016',\n",
       " '/details/The_Economist_5TH_December_11TH_December_2015',\n",
       " '/details/The_Economist_7_November_13_November_2015',\n",
       " '/details/The_Economist_April_11_2015',\n",
       " '/details/The_Economist_April_18_2015_USA',\n",
       " '/details/The_Economist_April_25_2015_USA',\n",
       " '/details/The_Economist_April_4_2015_USA',\n",
       " '/details/the-economist-asia-13th-january-2018',\n",
       " '/details/The_Economist_August_1_2015',\n",
       " '/details/The_Economist_August_15_2015',\n",
       " '/details/The_Economist_August_22_2015',\n",
       " '/details/The_Economist_August_29_2015',\n",
       " '/details/The_Economist_August_8_2015_USA',\n",
       " '/details/The_Economist_December_12_2015',\n",
       " '/details/the-economist-december-2020-edition-the-world-in-2021_202110',\n",
       " '/details/The_Economist_December_5_2015',\n",
       " '/details/The_Economist_December_6_2014',\n",
       " '/details/The_Economist_Europe_-_16_July_2016',\n",
       " '/details/The_Economist_Europe_-_23_July_2016',\n",
       " '/details/the-economist-europe-14th-january-2018',\n",
       " '/details/The_Economist_February_13_2016',\n",
       " '/details/The_Economist_February_14_2015',\n",
       " '/details/The_Economist_February_21_2015',\n",
       " '/details/The_Economist_February_28_2015',\n",
       " '/details/The_Economist_February_6_2015',\n",
       " '/details/The_Economist_February_6_2016',\n",
       " '/details/The_Economist_February_7_2015',\n",
       " '/details/The_Economist_January_16_2016',\n",
       " '/details/The_Economist_January_23_2016_USA',\n",
       " '/details/The_Economist_July_11_2015_USA',\n",
       " '/details/The_Economist_July_18_2015',\n",
       " '/details/The_Economist_July_25_2015_EU',\n",
       " '/details/The_Economist_July_3_2015',\n",
       " '/details/The_Economist_July_4_2015_USA',\n",
       " '/details/The_Economist_June_20_2015',\n",
       " '/details/The_Economist_June_6_2015',\n",
       " '/details/the-economist-magazine-17th-december-2021',\n",
       " '/details/the-economist-magazine-asia-13-january-2018',\n",
       " '/details/the-economist-magazine-europe-14-january-2018',\n",
       " '/details/the-economist-magazine-uk-5-may-2018',\n",
       " '/details/the-economist-magazine-usa-13-january-2018',\n",
       " '/details/the-economist-magazine-1-january-2021',\n",
       " '/details/the-economist-magazine-1-may-2020',\n",
       " '/details/the-economist-magazine-1-october-2021',\n",
       " '/details/the-economist-magazine-10-august-2019',\n",
       " '/details/the-economist-magazine-10-july-2020',\n",
       " '/details/the-economist-magazine-10th-july-2020',\n",
       " '/details/the-economist-magazine-10-september-2021',\n",
       " '/details/the-economist-magazine-11-august-2018',\n",
       " '/details/the-economist-magazine-11-december-2020_202110',\n",
       " '/details/the-economist-magazine-11-december-2020',\n",
       " '/details/the-economist-magazine-11-february-2022',\n",
       " '/details/the-economist-magazine-11-january-2020',\n",
       " '/details/the-economist-magazine-11-june-2021',\n",
       " '/details/the-economist-magazine-11th-june-2021',\n",
       " '/details/the-economist-magazine-11-september-2020',\n",
       " '/details/the-economist-magazine-11th-september-2020',\n",
       " '/details/the-economist-magazine-12-february-2021_202107',\n",
       " '/details/the-economist-magazine-12-february-2021',\n",
       " '/details/the-economist-magazine-12-february-2021_202110',\n",
       " '/details/the-economist-magazine-12-june-2020',\n",
       " '/details/the-economist-magazine-12th-march-2021',\n",
       " '/details/the-economist-magazine-12-march-2021',\n",
       " '/details/the-economist-magazine-12-october-2019',\n",
       " '/details/the-economist-magazine-13-august-2021',\n",
       " '/details/the-economist-magazine-13-november-2020',\n",
       " '/details/the-economist-magazine-13th-november-2020',\n",
       " '/details/the-economist-magazine-14th-august-2020',\n",
       " '/details/the-economist-magazine-14-august-2020',\n",
       " '/details/the-economist-magazine-14-january-2022',\n",
       " '/details/the-economist-magazine-14-march-2020',\n",
       " '/details/the-economist-magazine-14th-may-2021']"
      ]
     },
     "execution_count": 134,
     "metadata": {},
     "output_type": "execute_result"
    }
   ],
   "source": [
    "link_list = [x.replace('\\'','').replace(',','').strip() for x in data.split('\\n') if '/details/theeconomistmagazine' not in x][:-1]\n",
    "link_list"
   ]
  },
  {
   "cell_type": "code",
   "execution_count": 135,
   "metadata": {},
   "outputs": [],
   "source": [
    "def get_links(link_list):\n",
    "    links = []\n",
    "    for link in link_list:\n",
    "        page = requests.get(f'https://archive.org{link}')\n",
    "        # print(f'https://archive.org{link}')\n",
    "        soup = BeautifulSoup(page.content, \"html.parser\")\n",
    "        href = soup.find_all('a',{'class':'format-summary download-pill'})\n",
    "        # if len(href) > 0:\n",
    "        #     href = href[0]['href']\n",
    "        result = [x['href'] for x in href if 'FULL TEXT' in x.text][0]\n",
    "        print(result)\n",
    "        links.append(result)\n",
    "    return links"
   ]
  },
  {
   "cell_type": "code",
   "execution_count": 136,
   "metadata": {},
   "outputs": [
    {
     "name": "stdout",
     "output_type": "stream",
     "text": [
      "/stream/the-economist-december-2020-edition-the-world-in-2021/The%20Economist%20-%20December%202020%20Edition%20-%20The%20World%20in%202021_djvu.txt\n",
      "/stream/The_Economist_12_TH_December_18TH_December_2015/The_Economist_12_TH_December_18TH_December_2015_djvu.txt\n",
      "/stream/The_Economist_19_December_2015/The_Economist_19_December_2015_djvu.txt\n",
      "/stream/The_Economist_19_December_2015_1_January_2016/The_Economist_19_December_2015_1_January_2016_djvu.txt\n",
      "/stream/The_Economist_5TH_December_11TH_December_2015/The_Economist_5TH_December_11TH_December_2015_djvu.txt\n",
      "/stream/The_Economist_7_November_13_November_2015/The_Economist_7_November_13_November_2015_djvu.txt\n",
      "/stream/The_Economist_April_11_2015/The_Economist_April_11_2015_djvu.txt\n",
      "/stream/The_Economist_April_18_2015_USA/The_Economist_April_18_2015_USA_djvu.txt\n",
      "/stream/The_Economist_April_25_2015_USA/The_Economist_April_25_2015_USA_djvu.txt\n",
      "/stream/The_Economist_April_4_2015_USA/The_Economist_April_4_2015_USA_djvu.txt\n",
      "/stream/the-economist-asia-13th-january-2018/The%20Economist%20Asia%2C%2013th%20January%202018_djvu.txt\n",
      "/stream/The_Economist_August_1_2015/The_Economist_August_1_2015_djvu.txt\n",
      "/stream/The_Economist_August_15_2015/The_Economist_August_15_2015_djvu.txt\n",
      "/stream/The_Economist_August_22_2015/The_Economist_August_22_2015_djvu.txt\n",
      "/stream/The_Economist_August_29_2015/The_Economist_August_29_2015_djvu.txt\n",
      "/stream/The_Economist_August_8_2015_USA/The_Economist_August_8_2015_USA_djvu.txt\n",
      "/stream/The_Economist_December_12_2015/The_Economist_December_12_2015_djvu.txt\n",
      "/stream/the-economist-december-2020-edition-the-world-in-2021_202110/The%20Economist%20-%20December%202020%20Edition%20-%20The%20World%20in%202021_djvu.txt\n",
      "/stream/The_Economist_December_5_2015/The_Economist_December_5_2015_djvu.txt\n",
      "/stream/The_Economist_December_6_2014/The_Economist_December_6_2014_djvu.txt\n",
      "/stream/The_Economist_Europe_-_16_July_2016/The_Economist_Europe_-_16_July_2016_djvu.txt\n",
      "/stream/The_Economist_Europe_-_23_July_2016/The_Economist_Europe_-_23_July_2016_djvu.txt\n",
      "/stream/the-economist-europe-14th-january-2018/The%20Economist%20Europe%2C%2014th%20January%202018_djvu.txt\n",
      "/stream/The_Economist_February_13_2016/The_Economist_February_13_2016_djvu.txt\n",
      "/stream/The_Economist_February_14_2015/The_Economist_February_14_2015_djvu.txt\n",
      "/stream/The_Economist_February_21_2015/The_Economist_February_21_2015_djvu.txt\n",
      "/stream/The_Economist_February_28_2015/The_Economist_February_28_2015_djvu.txt\n",
      "/stream/The_Economist_February_6_2015/The_Economist_February_6_2015_djvu.txt\n",
      "/stream/The_Economist_February_6_2016/The_Economist_February_6_2016_djvu.txt\n",
      "/stream/The_Economist_February_7_2015/The_Economist_February_7_2015_djvu.txt\n",
      "/stream/The_Economist_January_16_2016/The_Economist_January_16_2016_djvu.txt\n",
      "/stream/The_Economist_January_23_2016_USA/The_Economist_January_23_2016_USA_djvu.txt\n",
      "/stream/The_Economist_July_11_2015_USA/The_Economist_July_11_2015_USA_djvu.txt\n",
      "/stream/The_Economist_July_18_2015/The_Economist_July_18_2015_djvu.txt\n",
      "/stream/The_Economist_July_25_2015_EU/The_Economist_July_25_2015_EU_djvu.txt\n",
      "/stream/The_Economist_July_3_2015/The_Economist_July_3_2015_djvu.txt\n",
      "/stream/The_Economist_July_4_2015_USA/The_Economist_July_4_2015_USA_djvu.txt\n",
      "/stream/The_Economist_June_20_2015/The_Economist_June_20_2015_djvu.txt\n",
      "/stream/The_Economist_June_6_2015/The_Economist_June_6_2015_djvu.txt\n",
      "/stream/the-economist-magazine-17th-december-2021/The%20Economist%20Magazine%2017th%20December%202021_djvu.txt\n",
      "/stream/the-economist-magazine-asia-13-january-2018/The%20Economist%20Magazine%20Asia%2C%2013%20January%202018_djvu.txt\n",
      "/stream/the-economist-magazine-europe-14-january-2018/The%20Economist%20Magazine%20Europe%2C%2014%20January%202018_djvu.txt\n",
      "/stream/the-economist-magazine-uk-5-may-2018/The%20Economist%20Magazine%20UK%2C%205%20May%202018_djvu.txt\n",
      "/stream/the-economist-magazine-usa-13-january-2018/The%20Economist%20Magazine%20USA%2C%2013%20January%202018_djvu.txt\n",
      "/stream/the-economist-magazine-1-january-2021/The%20Economist%20Magazine%2C%201%20January%202021_djvu.txt\n",
      "/stream/the-economist-magazine-1-may-2020/The%20Economist%20Magazine%2C%201%20May%202020_djvu.txt\n",
      "/stream/the-economist-magazine-1-october-2021/The%20Economist%20Magazine%2C%201%20October%202021_djvu.txt\n",
      "/stream/the-economist-magazine-10-august-2019/The%20Economist%20Magazine%2C%2010%20August%202019_djvu.txt\n",
      "/stream/the-economist-magazine-10-july-2020/The%20Economist%20Magazine%2C%2010%20July%202020_djvu.txt\n",
      "/stream/the-economist-magazine-10th-july-2020/The%20Economist%20Magazine%2010th%20July%202020_djvu.txt\n",
      "/stream/the-economist-magazine-10-september-2021/The%20Economist%20Magazine%2C%2010%20September%202021_djvu.txt\n",
      "/stream/the-economist-magazine-11-august-2018/The%20Economist%20Magazine%2C%2011%20August%202018_djvu.txt\n",
      "/stream/the-economist-magazine-11-december-2020_202110/The%20Economist%20Magazine%2C%2011%20December%202020_djvu.txt\n",
      "/stream/the-economist-magazine-11-december-2020/The%20Economist%20Magazine%2C%20%2011%20December%202020_djvu.txt\n",
      "/stream/the-economist-magazine-11-february-2022/The%20Economist%20Magazine%2011%20February%202022_djvu.txt\n",
      "/stream/the-economist-magazine-11-january-2020/The%20Economist%20Magazine%2C%2011%20January%202020_djvu.txt\n",
      "/stream/the-economist-magazine-11-june-2021/The%20Economist%20Magazine%2C%2011%20June%202021_djvu.txt\n",
      "/stream/the-economist-magazine-11th-june-2021/The%20Economist%20Magazine%2011th%20June%202021_djvu.txt\n",
      "/stream/the-economist-magazine-11-september-2020/The%20Economist%20Magazine%2C%2011%20September%202020_djvu.txt\n",
      "/stream/the-economist-magazine-11th-september-2020/The%20Economist%20Magazine%2011th%20September%202020_djvu.txt\n",
      "/stream/the-economist-magazine-12-february-2021_202107/The%20Economist%20Magazine%2C%2012%20February%20%202021_djvu.txt\n",
      "/stream/the-economist-magazine-12-february-2021/The%20Economist%20Magazine%2C%2012%20February%20%202021_djvu.txt\n",
      "/stream/the-economist-magazine-12-february-2021_202110/The%20Economist%20Magazine%2C%2012%20February%202021_djvu.txt\n",
      "/stream/the-economist-magazine-12-june-2020/The%20Economist%20Magazine%2C%2012%20June%202020_djvu.txt\n",
      "/stream/the-economist-magazine-12th-march-2021/The%20Economist%20Magazine%2012th%20March%202021_djvu.txt\n",
      "/stream/the-economist-magazine-12-march-2021/The%20Economist%20Magazine%2C%2012%20March%202021_djvu.txt\n",
      "/stream/the-economist-magazine-12-october-2019/The%20Economist%20Magazine%2C%20%2012%20October%202019_djvu.txt\n",
      "/stream/the-economist-magazine-13-august-2021/The%20Economist%20Magazine%2C%2013%20August%202021_djvu.txt\n",
      "/stream/the-economist-magazine-13-november-2020/The%20Economist%20Magazine%2C%2013%20November%202020_djvu.txt\n",
      "/stream/the-economist-magazine-13th-november-2020/The%20Economist%20Magazine%2013th%20November%202020_djvu.txt\n",
      "/stream/the-economist-magazine-14th-august-2020/The%20Economist%20Magazine%2014th%20August%202020_djvu.txt\n",
      "/stream/the-economist-magazine-14-august-2020/The%20Economist%20Magazine%2C%2014%20August%202020_djvu.txt\n",
      "/stream/the-economist-magazine-14-january-2022/The%20Economist%20Magazine%2C%2014%20January%202022_djvu.txt\n",
      "/stream/the-economist-magazine-14-march-2020/The%20Economist%20Magazine%2C%2014%20March%202020_djvu.txt\n",
      "/stream/the-economist-magazine-14th-may-2021/The%20EConomist%20Magazine%2014th%20May%202021_djvu.txt\n"
     ]
    }
   ],
   "source": [
    "final_links_list = get_links(link_list)"
   ]
  },
  {
   "cell_type": "code",
   "execution_count": 139,
   "metadata": {},
   "outputs": [
    {
     "data": {
      "text/plain": [
       "'/stream/the-economist-december-2020-edition-the-world-in-2021/The%20Economist%20-%20December%202020%20Edition%20-%20The%20World%20in%202021_djvu.txt'"
      ]
     },
     "execution_count": 139,
     "metadata": {},
     "output_type": "execute_result"
    }
   ],
   "source": [
    "final_links_list[0]"
   ]
  },
  {
   "cell_type": "code",
   "execution_count": 148,
   "metadata": {},
   "outputs": [
    {
     "name": "stdout",
     "output_type": "stream",
     "text": [
      "https://archive.org/stream/the-economist-december-2020-edition-the-world-in-2021/The%20Economist%20-%20December%202020%20Edition%20-%20The%20World%20in%202021_djvu.txt\n",
      "https://archive.org/stream/The_Economist_12_TH_December_18TH_December_2015/The_Economist_12_TH_December_18TH_December_2015_djvu.txt\n",
      "https://archive.org/stream/The_Economist_19_December_2015/The_Economist_19_December_2015_djvu.txt\n",
      "https://archive.org/stream/The_Economist_19_December_2015_1_January_2016/The_Economist_19_December_2015_1_January_2016_djvu.txt\n",
      "https://archive.org/stream/The_Economist_5TH_December_11TH_December_2015/The_Economist_5TH_December_11TH_December_2015_djvu.txt\n",
      "https://archive.org/stream/The_Economist_7_November_13_November_2015/The_Economist_7_November_13_November_2015_djvu.txt\n",
      "https://archive.org/stream/The_Economist_April_11_2015/The_Economist_April_11_2015_djvu.txt\n",
      "https://archive.org/stream/The_Economist_April_18_2015_USA/The_Economist_April_18_2015_USA_djvu.txt\n",
      "https://archive.org/stream/The_Economist_April_25_2015_USA/The_Economist_April_25_2015_USA_djvu.txt\n",
      "https://archive.org/stream/The_Economist_April_4_2015_USA/The_Economist_April_4_2015_USA_djvu.txt\n",
      "https://archive.org/stream/the-economist-asia-13th-january-2018/The%20Economist%20Asia%2C%2013th%20January%202018_djvu.txt\n",
      "https://archive.org/stream/The_Economist_August_1_2015/The_Economist_August_1_2015_djvu.txt\n",
      "https://archive.org/stream/The_Economist_August_15_2015/The_Economist_August_15_2015_djvu.txt\n",
      "https://archive.org/stream/The_Economist_August_22_2015/The_Economist_August_22_2015_djvu.txt\n",
      "https://archive.org/stream/The_Economist_August_29_2015/The_Economist_August_29_2015_djvu.txt\n",
      "https://archive.org/stream/The_Economist_August_8_2015_USA/The_Economist_August_8_2015_USA_djvu.txt\n",
      "https://archive.org/stream/The_Economist_December_12_2015/The_Economist_December_12_2015_djvu.txt\n",
      "https://archive.org/stream/the-economist-december-2020-edition-the-world-in-2021_202110/The%20Economist%20-%20December%202020%20Edition%20-%20The%20World%20in%202021_djvu.txt\n",
      "https://archive.org/stream/The_Economist_December_5_2015/The_Economist_December_5_2015_djvu.txt\n",
      "https://archive.org/stream/The_Economist_December_6_2014/The_Economist_December_6_2014_djvu.txt\n",
      "https://archive.org/stream/The_Economist_Europe_-_16_July_2016/The_Economist_Europe_-_16_July_2016_djvu.txt\n",
      "https://archive.org/stream/The_Economist_Europe_-_23_July_2016/The_Economist_Europe_-_23_July_2016_djvu.txt\n",
      "https://archive.org/stream/the-economist-europe-14th-january-2018/The%20Economist%20Europe%2C%2014th%20January%202018_djvu.txt\n",
      "https://archive.org/stream/The_Economist_February_13_2016/The_Economist_February_13_2016_djvu.txt\n",
      "https://archive.org/stream/The_Economist_February_14_2015/The_Economist_February_14_2015_djvu.txt\n",
      "https://archive.org/stream/The_Economist_February_21_2015/The_Economist_February_21_2015_djvu.txt\n",
      "https://archive.org/stream/The_Economist_February_28_2015/The_Economist_February_28_2015_djvu.txt\n",
      "https://archive.org/stream/The_Economist_February_6_2015/The_Economist_February_6_2015_djvu.txt\n",
      "https://archive.org/stream/The_Economist_February_6_2016/The_Economist_February_6_2016_djvu.txt\n",
      "https://archive.org/stream/The_Economist_February_7_2015/The_Economist_February_7_2015_djvu.txt\n",
      "https://archive.org/stream/The_Economist_January_16_2016/The_Economist_January_16_2016_djvu.txt\n",
      "https://archive.org/stream/The_Economist_January_23_2016_USA/The_Economist_January_23_2016_USA_djvu.txt\n",
      "https://archive.org/stream/The_Economist_July_11_2015_USA/The_Economist_July_11_2015_USA_djvu.txt\n",
      "https://archive.org/stream/The_Economist_July_18_2015/The_Economist_July_18_2015_djvu.txt\n",
      "https://archive.org/stream/The_Economist_July_25_2015_EU/The_Economist_July_25_2015_EU_djvu.txt\n",
      "https://archive.org/stream/The_Economist_July_3_2015/The_Economist_July_3_2015_djvu.txt\n",
      "https://archive.org/stream/The_Economist_July_4_2015_USA/The_Economist_July_4_2015_USA_djvu.txt\n",
      "https://archive.org/stream/The_Economist_June_20_2015/The_Economist_June_20_2015_djvu.txt\n",
      "https://archive.org/stream/The_Economist_June_6_2015/The_Economist_June_6_2015_djvu.txt\n",
      "https://archive.org/stream/the-economist-magazine-17th-december-2021/The%20Economist%20Magazine%2017th%20December%202021_djvu.txt\n",
      "https://archive.org/stream/the-economist-magazine-asia-13-january-2018/The%20Economist%20Magazine%20Asia%2C%2013%20January%202018_djvu.txt\n",
      "https://archive.org/stream/the-economist-magazine-europe-14-january-2018/The%20Economist%20Magazine%20Europe%2C%2014%20January%202018_djvu.txt\n",
      "https://archive.org/stream/the-economist-magazine-uk-5-may-2018/The%20Economist%20Magazine%20UK%2C%205%20May%202018_djvu.txt\n",
      "https://archive.org/stream/the-economist-magazine-usa-13-january-2018/The%20Economist%20Magazine%20USA%2C%2013%20January%202018_djvu.txt\n",
      "https://archive.org/stream/the-economist-magazine-1-january-2021/The%20Economist%20Magazine%2C%201%20January%202021_djvu.txt\n",
      "https://archive.org/stream/the-economist-magazine-1-may-2020/The%20Economist%20Magazine%2C%201%20May%202020_djvu.txt\n",
      "https://archive.org/stream/the-economist-magazine-1-october-2021/The%20Economist%20Magazine%2C%201%20October%202021_djvu.txt\n",
      "https://archive.org/stream/the-economist-magazine-10-august-2019/The%20Economist%20Magazine%2C%2010%20August%202019_djvu.txt\n",
      "https://archive.org/stream/the-economist-magazine-10-july-2020/The%20Economist%20Magazine%2C%2010%20July%202020_djvu.txt\n",
      "https://archive.org/stream/the-economist-magazine-10th-july-2020/The%20Economist%20Magazine%2010th%20July%202020_djvu.txt\n",
      "https://archive.org/stream/the-economist-magazine-10-september-2021/The%20Economist%20Magazine%2C%2010%20September%202021_djvu.txt\n",
      "https://archive.org/stream/the-economist-magazine-11-august-2018/The%20Economist%20Magazine%2C%2011%20August%202018_djvu.txt\n",
      "https://archive.org/stream/the-economist-magazine-11-december-2020_202110/The%20Economist%20Magazine%2C%2011%20December%202020_djvu.txt\n",
      "https://archive.org/stream/the-economist-magazine-11-december-2020/The%20Economist%20Magazine%2C%20%2011%20December%202020_djvu.txt\n",
      "https://archive.org/stream/the-economist-magazine-11-february-2022/The%20Economist%20Magazine%2011%20February%202022_djvu.txt\n",
      "https://archive.org/stream/the-economist-magazine-11-january-2020/The%20Economist%20Magazine%2C%2011%20January%202020_djvu.txt\n",
      "https://archive.org/stream/the-economist-magazine-11-june-2021/The%20Economist%20Magazine%2C%2011%20June%202021_djvu.txt\n",
      "https://archive.org/stream/the-economist-magazine-11th-june-2021/The%20Economist%20Magazine%2011th%20June%202021_djvu.txt\n",
      "https://archive.org/stream/the-economist-magazine-11-september-2020/The%20Economist%20Magazine%2C%2011%20September%202020_djvu.txt\n",
      "https://archive.org/stream/the-economist-magazine-11th-september-2020/The%20Economist%20Magazine%2011th%20September%202020_djvu.txt\n",
      "https://archive.org/stream/the-economist-magazine-12-february-2021_202107/The%20Economist%20Magazine%2C%2012%20February%20%202021_djvu.txt\n",
      "https://archive.org/stream/the-economist-magazine-12-february-2021/The%20Economist%20Magazine%2C%2012%20February%20%202021_djvu.txt\n",
      "https://archive.org/stream/the-economist-magazine-12-february-2021_202110/The%20Economist%20Magazine%2C%2012%20February%202021_djvu.txt\n",
      "https://archive.org/stream/the-economist-magazine-12-june-2020/The%20Economist%20Magazine%2C%2012%20June%202020_djvu.txt\n",
      "https://archive.org/stream/the-economist-magazine-12th-march-2021/The%20Economist%20Magazine%2012th%20March%202021_djvu.txt\n",
      "https://archive.org/stream/the-economist-magazine-12-march-2021/The%20Economist%20Magazine%2C%2012%20March%202021_djvu.txt\n",
      "https://archive.org/stream/the-economist-magazine-12-october-2019/The%20Economist%20Magazine%2C%20%2012%20October%202019_djvu.txt\n",
      "https://archive.org/stream/the-economist-magazine-13-august-2021/The%20Economist%20Magazine%2C%2013%20August%202021_djvu.txt\n",
      "https://archive.org/stream/the-economist-magazine-13-november-2020/The%20Economist%20Magazine%2C%2013%20November%202020_djvu.txt\n",
      "https://archive.org/stream/the-economist-magazine-13th-november-2020/The%20Economist%20Magazine%2013th%20November%202020_djvu.txt\n",
      "https://archive.org/stream/the-economist-magazine-14th-august-2020/The%20Economist%20Magazine%2014th%20August%202020_djvu.txt\n",
      "https://archive.org/stream/the-economist-magazine-14-august-2020/The%20Economist%20Magazine%2C%2014%20August%202020_djvu.txt\n",
      "https://archive.org/stream/the-economist-magazine-14-january-2022/The%20Economist%20Magazine%2C%2014%20January%202022_djvu.txt\n",
      "https://archive.org/stream/the-economist-magazine-14-march-2020/The%20Economist%20Magazine%2C%2014%20March%202020_djvu.txt\n",
      "https://archive.org/stream/the-economist-magazine-14th-may-2021/The%20EConomist%20Magazine%2014th%20May%202021_djvu.txt\n"
     ]
    }
   ],
   "source": [
    "def scrape_economists(links_list):\n",
    "    super_string = ''\n",
    "\n",
    "    for link in links_list:\n",
    "        print(f'https://archive.org{link}')\n",
    "        page = requests.get(f'https://archive.org{link}')\n",
    "        soup = BeautifulSoup(page.content, \"html.parser\")\n",
    "        if len(soup) > 0:\n",
    "            super_string += soup.find_all('pre')[0].text\n",
    "\n",
    "    return super_string\n",
    "\n",
    "economist_text = scrape_economists(final_links_list)"
   ]
  },
  {
   "cell_type": "code",
   "execution_count": 149,
   "metadata": {},
   "outputs": [],
   "source": [
    "with open('../data/economist_text.txt', 'w') as f:\n",
    "    f.write(economist_text)"
   ]
  },
  {
   "cell_type": "code",
   "execution_count": null,
   "metadata": {},
   "outputs": [],
   "source": []
  }
 ],
 "metadata": {
  "kernelspec": {
   "display_name": "ML",
   "language": "python",
   "name": "ml"
  },
  "language_info": {
   "codemirror_mode": {
    "name": "ipython",
    "version": 3
   },
   "file_extension": ".py",
   "mimetype": "text/x-python",
   "name": "python",
   "nbconvert_exporter": "python",
   "pygments_lexer": "ipython3",
   "version": "3.9.12"
  },
  "orig_nbformat": 4
 },
 "nbformat": 4,
 "nbformat_minor": 2
}
