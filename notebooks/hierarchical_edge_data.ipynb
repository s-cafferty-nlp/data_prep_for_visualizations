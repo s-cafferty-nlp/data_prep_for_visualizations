{
 "cells": [
  {
   "cell_type": "code",
   "execution_count": 40,
   "metadata": {},
   "outputs": [],
   "source": [
    "import json\n",
    "  \n",
    "# Opening JSON file\n",
    "f = open('../data/a-tale-of-the-tub-adjective-noun.json')\n",
    "  \n",
    "# returns JSON object as \n",
    "# a dictionary\n",
    "data = json.load(f)"
   ]
  },
  {
   "cell_type": "code",
   "execution_count": 41,
   "metadata": {},
   "outputs": [
    {
     "data": {
      "text/plain": [
       "{'nodes': [{'id': 'true', 'type': 'adjective'},\n",
       "  {'id': 'same', 'type': 'adjective'},\n",
       "  {'id': 'great', 'type': 'adjective'},\n",
       "  {'id': 'gold', 'type': 'adjective'},\n",
       "  {'id': 'present', 'type': 'adjective'},\n",
       "  {'id': 'much', 'type': 'adjective'},\n",
       "  {'id': 'human', 'type': 'adjective'},\n",
       "  {'id': 'new', 'type': 'adjective'},\n",
       "  {'id': 'courteous', 'type': 'adjective'},\n",
       "  {'id': 'several', 'type': 'adjective'},\n",
       "  {'id': 'other', 'type': 'adjective'},\n",
       "  {'id': 'greatest', 'type': 'adjective'},\n",
       "  {'id': 'public', 'type': 'adjective'},\n",
       "  {'id': 'ancient', 'type': 'adjective'},\n",
       "  {'id': 'critic', 'type': 'noun'},\n",
       "  {'id': 'critics', 'type': 'noun'},\n",
       "  {'id': 'time', 'type': 'noun'},\n",
       "  {'id': 'deal', 'type': 'noun'},\n",
       "  {'id': 'lace', 'type': 'noun'},\n",
       "  {'id': 'age', 'type': 'noun'},\n",
       "  {'id': 'thought', 'type': 'noun'},\n",
       "  {'id': 'work', 'type': 'noun'},\n",
       "  {'id': 'nature', 'type': 'noun'},\n",
       "  {'id': 'landlord', 'type': 'noun'},\n",
       "  {'id': 'reader', 'type': 'noun'},\n",
       "  {'id': 'parts', 'type': 'noun'},\n",
       "  {'id': 'side', 'type': 'noun'},\n",
       "  {'id': 'part', 'type': 'noun'},\n",
       "  {'id': 'vogue', 'type': 'noun'},\n",
       "  {'id': 'life', 'type': 'noun'},\n",
       "  {'id': 'good', 'type': 'noun'},\n",
       "  {'id': 'writers', 'type': 'noun'}],\n",
       " 'links': [{'source': 'true', 'target': 'critic', 'count': 14},\n",
       "  {'source': 'true', 'target': 'critics', 'count': 8},\n",
       "  {'source': 'same', 'target': 'time', 'count': 7},\n",
       "  {'source': 'great', 'target': 'deal', 'count': 6},\n",
       "  {'source': 'gold', 'target': 'lace', 'count': 6},\n",
       "  {'source': 'present', 'target': 'age', 'count': 5},\n",
       "  {'source': 'much', 'target': 'thought', 'count': 5},\n",
       "  {'source': 'great', 'target': 'work', 'count': 5},\n",
       "  {'source': 'human', 'target': 'nature', 'count': 5},\n",
       "  {'source': 'new', 'target': 'landlord', 'count': 5},\n",
       "  {'source': 'courteous', 'target': 'reader', 'count': 4},\n",
       "  {'source': 'several', 'target': 'parts', 'count': 4},\n",
       "  {'source': 'other', 'target': 'side', 'count': 4},\n",
       "  {'source': 'greatest', 'target': 'part', 'count': 4},\n",
       "  {'source': 'great', 'target': 'vogue', 'count': 4},\n",
       "  {'source': 'human', 'target': 'life', 'count': 4},\n",
       "  {'source': 'public', 'target': 'good', 'count': 4},\n",
       "  {'source': 'ancient', 'target': 'writers', 'count': 4}]}"
      ]
     },
     "execution_count": 41,
     "metadata": {},
     "output_type": "execute_result"
    }
   ],
   "source": [
    "data"
   ]
  },
  {
   "cell_type": "code",
   "execution_count": 58,
   "metadata": {},
   "outputs": [],
   "source": [
    "def hierarchical_edge_data(data):\n",
    "    \n",
    "    categories = list(set([node['type'] for node in data['nodes']]))\n",
    "    \n",
    "    names = []\n",
    "    imports = []\n",
    "\n",
    "    \n",
    "    adj = [{\"name\":node['id'],\"imports\":[x['target'] for x in data['links'] if x['source'] == node['id']]} for node in data['nodes'] if node['type']=='adjective' ]\n",
    "    noun = [{\"name\":node['id'],\"imports\":[x['target'] for x in data['links'] if x['source'] == node['id']]} for node in data['nodes'] if node['type']=='noun' ]\n",
    "    all = [{\"name\":node['id'],\"imports\":[x['target'] for x in data['links'] if x['source'] == node['id']]} for node in data['nodes']]\n",
    "    output = {'name':'words','children':[{'name':'adjective', 'children':adj},{'name':'noun', 'children':noun}]}\n",
    "    for node in data['nodes']:\n",
    "        \n",
    "        \n",
    "        names.append({\"name\":'words' + '.' + node['type'] + '.' + node['id'], \"imports\": [\"words.adjective.\" + x['target'] for x in data['links'] if x['source'] == node['id']]})\n",
    "\n",
    "    \n",
    "    dumps = json.dumps(names, indent=4)  \n",
    "\n",
    "    with open(f\"../data/{'hierarchical_edge_data'}.json\", \"w\") as outfile:\n",
    "        outfile.write(dumps)\n",
    "    return output\n",
    "\n",
    "    \n",
    "\n",
    "    "
   ]
  },
  {
   "cell_type": "code",
   "execution_count": 59,
   "metadata": {},
   "outputs": [
    {
     "data": {
      "text/plain": [
       "{'name': 'words',\n",
       " 'children': [{'name': 'adjective',\n",
       "   'children': [{'name': 'true', 'imports': ['critic', 'critics']},\n",
       "    {'name': 'same', 'imports': ['time']},\n",
       "    {'name': 'great', 'imports': ['deal', 'work', 'vogue']},\n",
       "    {'name': 'gold', 'imports': ['lace']},\n",
       "    {'name': 'present', 'imports': ['age']},\n",
       "    {'name': 'much', 'imports': ['thought']},\n",
       "    {'name': 'human', 'imports': ['nature', 'life']},\n",
       "    {'name': 'new', 'imports': ['landlord']},\n",
       "    {'name': 'courteous', 'imports': ['reader']},\n",
       "    {'name': 'several', 'imports': ['parts']},\n",
       "    {'name': 'other', 'imports': ['side']},\n",
       "    {'name': 'greatest', 'imports': ['part']},\n",
       "    {'name': 'public', 'imports': ['good']},\n",
       "    {'name': 'ancient', 'imports': ['writers']}]},\n",
       "  {'name': 'noun',\n",
       "   'children': [{'name': 'critic', 'imports': []},\n",
       "    {'name': 'critics', 'imports': []},\n",
       "    {'name': 'time', 'imports': []},\n",
       "    {'name': 'deal', 'imports': []},\n",
       "    {'name': 'lace', 'imports': []},\n",
       "    {'name': 'age', 'imports': []},\n",
       "    {'name': 'thought', 'imports': []},\n",
       "    {'name': 'work', 'imports': []},\n",
       "    {'name': 'nature', 'imports': []},\n",
       "    {'name': 'landlord', 'imports': []},\n",
       "    {'name': 'reader', 'imports': []},\n",
       "    {'name': 'parts', 'imports': []},\n",
       "    {'name': 'side', 'imports': []},\n",
       "    {'name': 'part', 'imports': []},\n",
       "    {'name': 'vogue', 'imports': []},\n",
       "    {'name': 'life', 'imports': []},\n",
       "    {'name': 'good', 'imports': []},\n",
       "    {'name': 'writers', 'imports': []}]}]}"
      ]
     },
     "execution_count": 59,
     "metadata": {},
     "output_type": "execute_result"
    }
   ],
   "source": [
    "hierarchical_edge_data(data)"
   ]
  },
  {
   "cell_type": "code",
   "execution_count": null,
   "metadata": {},
   "outputs": [],
   "source": []
  }
 ],
 "metadata": {
  "kernelspec": {
   "display_name": "Python 3",
   "language": "python",
   "name": "python3"
  },
  "language_info": {
   "codemirror_mode": {
    "name": "ipython",
    "version": 3
   },
   "file_extension": ".py",
   "mimetype": "text/x-python",
   "name": "python",
   "nbconvert_exporter": "python",
   "pygments_lexer": "ipython3",
   "version": "3.9.6"
  },
  "orig_nbformat": 4,
  "vscode": {
   "interpreter": {
    "hash": "31f2aee4e71d21fbe5cf8b01ff0e069b9275f58929596ceb00d14d90e3e16cd6"
   }
  }
 },
 "nbformat": 4,
 "nbformat_minor": 2
}
