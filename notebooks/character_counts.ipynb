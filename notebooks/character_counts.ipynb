{
 "cells": [
  {
   "attachments": {},
   "cell_type": "markdown",
   "metadata": {},
   "source": [
    "### Character Counts from Books"
   ]
  },
  {
   "cell_type": "code",
   "execution_count": 1,
   "metadata": {},
   "outputs": [],
   "source": [
    "import numpy as np\n",
    "import pandas as pd\n",
    "import re\n",
    "from sklearn.feature_extraction.text import CountVectorizer\n",
    "import string\n"
   ]
  },
  {
   "cell_type": "code",
   "execution_count": 20,
   "metadata": {},
   "outputs": [],
   "source": [
    "languages = ['finnish','french','italian','dzongkha','greek','polish','telugu','russian']\n",
    "\n",
    "paths = [f'../data/{lang}.txt' for lang in languages]"
   ]
  },
  {
   "cell_type": "code",
   "execution_count": 26,
   "metadata": {},
   "outputs": [],
   "source": [
    "def make_character_pair_df(path):\n",
    "    with open(path, 'r') as file:\n",
    "     data = file.read()\n",
    "    clean_data = re.sub(r'[0-9]+', '', data)\n",
    "    clean_data = re.sub(\"\\n\", \" \", clean_data)\n",
    "    extended_punct = string.punctuation + \"‘\" + \"«\" + \"“\" + \"’\" + \"—\" + \"—\" + \"”\" + \"»\"\n",
    "    clean_data = clean_data.translate(str.maketrans('', '', extended_punct))\n",
    "    if ('dzongkha' in path) | ('greek' in path):\n",
    "        clean_data = re.sub(r'\\s*[A-Za-z]+\\b', '' , clean_data)\n",
    "        print('cleaning non english')\n",
    "    clean_data = clean_data.lower()\n",
    "    vectorizer = CountVectorizer(analyzer='char',ngram_range=(2, 2))\n",
    "    X = vectorizer.fit_transform([clean_data])\n",
    "    pairs = vectorizer.get_feature_names_out()\n",
    "    pairs = [pair.replace(\" \", \"_\") for pair in pairs]\n",
    "    df = pd.DataFrame(X.toarray(),columns=pairs).transpose().reset_index()\n",
    "\n",
    "    return df "
   ]
  },
  {
   "cell_type": "code",
   "execution_count": 27,
   "metadata": {},
   "outputs": [],
   "source": [
    "def extract_heatmap_data(df):\n",
    "    entry_list = []\n",
    "    for idx in range(len(df)):\n",
    "        entry_list.append({\"x\": df['index'].iloc[idx][0],\"y\": df['index'].iloc[idx][1],  \"color\":int(df[0].iloc[idx])})\n",
    "    return entry_list"
   ]
  },
  {
   "cell_type": "code",
   "execution_count": 28,
   "metadata": {},
   "outputs": [],
   "source": [
    "def extract_multiple_heatmap_data(path_list):\n",
    "    big_entry_list = []\n",
    "    for idx, path in enumerate(path_list):\n",
    "        print(path)\n",
    "        df = make_character_pair_df(path)\n",
    "        big_entry_list.append(extract_heatmap_data(df))\n",
    "\n",
    "    return big_entry_list"
   ]
  },
  {
   "cell_type": "code",
   "execution_count": 29,
   "metadata": {},
   "outputs": [
    {
     "name": "stdout",
     "output_type": "stream",
     "text": [
      "../data/finnish.txt\n",
      "../data/french.txt\n",
      "../data/italian.txt\n",
      "../data/dzongkha.txt\n",
      "cleaning non english\n",
      "../data/greek.txt\n",
      "cleaning non english\n",
      "../data/polish.txt\n",
      "../data/telugu.txt\n",
      "../data/russian.txt\n"
     ]
    }
   ],
   "source": [
    "super_data = extract_multiple_heatmap_data(paths)"
   ]
  },
  {
   "cell_type": "code",
   "execution_count": 30,
   "metadata": {},
   "outputs": [],
   "source": [
    "import json\n",
    "\n",
    "json_object = json.dumps(super_data, indent=1)\n",
    "\n",
    "with open(\"../data/big_heatmap.json\", \"w\") as outfile:\n",
    "    outfile.write(json_object)"
   ]
  },
  {
   "cell_type": "code",
   "execution_count": null,
   "metadata": {},
   "outputs": [],
   "source": []
  }
 ],
 "metadata": {
  "kernelspec": {
   "display_name": "Python 3",
   "language": "python",
   "name": "python3"
  },
  "language_info": {
   "codemirror_mode": {
    "name": "ipython",
    "version": 3
   },
   "file_extension": ".py",
   "mimetype": "text/x-python",
   "name": "python",
   "nbconvert_exporter": "python",
   "pygments_lexer": "ipython3",
   "version": "3.9.6 (default, Oct 18 2022, 12:41:40) \n[Clang 14.0.0 (clang-1400.0.29.202)]"
  },
  "orig_nbformat": 4,
  "vscode": {
   "interpreter": {
    "hash": "31f2aee4e71d21fbe5cf8b01ff0e069b9275f58929596ceb00d14d90e3e16cd6"
   }
  }
 },
 "nbformat": 4,
 "nbformat_minor": 2
}
